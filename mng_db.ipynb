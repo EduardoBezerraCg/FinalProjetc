{
 "cells": [
  {
   "cell_type": "code",
   "execution_count": 1,
   "metadata": {},
   "outputs": [],
   "source": [
    "import sqlite3\n",
    "\n",
    "con = sqlite3.connect('frota.db')\n",
    "frota = con.cursor() \n"
   ]
  },
  {
   "cell_type": "code",
   "execution_count": 4,
   "metadata": {},
   "outputs": [],
   "source": [
    "#Criando a tabela dos carros\n",
    "frota.execute(''' CREATE TABLE IF NOT EXISTS veiculos (ID INTEGER, Modelo TEXT, Categoria TEXT, Disponivel BOOLEAN,\n",
    "               DataUltimaRevisao DATE, DataProximaRevisao DATE, DataUltimaLegalizacao DATE, DataProximaLegalizacao DATE) ''')\n",
    "con.commit()"
   ]
  },
  {
   "cell_type": "code",
   "execution_count": 5,
   "metadata": {},
   "outputs": [],
   "source": [
    "#Adicionando os carros à tabela:\n",
    "frota.execute(''' INSERT INTO veiculos VALUES(22214, 'Toyota Corolla', 'carro', 1, '2023-10-01', '2023-01-01', '2023-01-19', '2024-09-15' ) ''')\n",
    "frota.execute(''' INSERT INTO veiculos VALUES(22314, 'Honda Civic', 'carro', 1, '2023-12-03', '2023-02-02', '2023-03-11', '2024-10-16') ''')\n",
    "frota.execute(''' INSERT INTO veiculos VALUES(254414, 'Ford Focus', 'carro', 1, '2023-07-04', '2023-03-01', '2023-09-25', '2024-011-17') ''')\n",
    "frota.execute(''' INSERT INTO veiculos VALUES(22224, 'Volkswagen Golf', 'carro', 1, '2023-07-07', '2023-11-12', '2023-01-19', '2024-12-18') ''')\n",
    "frota.execute(''' INSERT INTO veiculos VALUES(22123, 'BMW 3 Series', 'carro', 1, '2023-08-11', '2023-11-29', '2023-02-12', '2024-07-20') ''')\n",
    "frota.execute(''' INSERT INTO veiculos VALUES(22567, 'Chevrolet Cruze', 'carro', 1, '2023-10-09', '2023-11-12', '2023-06-30', '2024-01-15') ''')\n",
    "frota.execute(''' INSERT INTO veiculos VALUES(22124, 'Nissan Altima', 'carro', 1, '2023-07-11', '2023-11-01', '2023-03-19', '2024-12-24') ''')\n",
    "frota.execute(''' INSERT INTO veiculos VALUES(22789, 'Hyundai Elantra', 'carro', 1, '2023-10-08', '2023-11-01', '2023-04-15', '2024-07-15') ''')\n",
    "frota.execute(''' INSERT INTO veiculos VALUES(22794, 'Honda CBR500R', 'moto', 1, '2023-09-01', '2023-11-01', '2023-09-09', '2024-05-15') ''')\n",
    "frota.execute(''' INSERT INTO veiculos VALUES(222678, 'Suzuki GSX-R750', 'moto', 1, '2023-12-01', '2023-11-01', '2023-05-11', '2024-12-15') ''')\n",
    "frota.execute(''' INSERT INTO veiculos VALUES(22345, 'BMW S 1000 RR', 'moto', 1, '2023-11-02', '2023-11-01', '2023-10-16', '2024-04-15') ''')\n",
    "con.commit()"
   ]
  },
  {
   "cell_type": "code",
   "execution_count": 2,
   "metadata": {},
   "outputs": [
    {
     "name": "stdout",
     "output_type": "stream",
     "text": [
      "[('Toyota Corolla', 'gold', 1), ('Honda Civic', 'prata', 1), ('Ford Focus', 'prata', 1), ('Volkswagen Golf', 'prata', 1), ('BMW 3 Series', 'gold', 1), ('Chevrolet Cruze', 'prata', 1), ('Nissan Altima', 'prata', 1), ('Hyundai Elantra', 'Economic', 1), ('Honda CBR500R', 'prata', 1), ('Suzuki GSX-R750', 'prata', 1), ('BMW S 1000 RR', 'Economic', 1), ('Toyota Corolla', 'Economic', 1), ('Honda Civic', 'gold', 1), ('Ford Focus', 'prata', 1), ('Volkswagen Golf', 'gold', 1), ('BMW 3 Series', 'prata', 1), ('Chevrolet Cruze', 'Economic', 1), ('Nissan Altima', 'Economic', 1), ('Hyundai Elantra', 'prata', 1), ('Honda CBR500R', 'prata', 1), ('Suzuki GSX-R750', 'gold', 1), ('BMW S 1000 RR', 'gold', 1), ('Toyota Corolla', 'Economic', 1), ('BMW S 750 RR', 'prata', 1)]\n"
     ]
    }
   ],
   "source": [
    "frota.execute(\"SELECT Modelo, Categoria, Disponivel FROM veiculos\")\n",
    "print(frota.fetchall())"
   ]
  },
  {
   "cell_type": "code",
   "execution_count": 13,
   "metadata": {},
   "outputs": [
    {
     "data": {
      "text/plain": [
       "<sqlite3.Cursor at 0x1b592c94840>"
      ]
     },
     "execution_count": 13,
     "metadata": {},
     "output_type": "execute_result"
    }
   ],
   "source": [
    "#Pra excluir a tabela toda\n",
    "frota.execute(''' DROP TABLE veiculos ''')"
   ]
  },
  {
   "cell_type": "code",
   "execution_count": 12,
   "metadata": {},
   "outputs": [
    {
     "ename": "OperationalError",
     "evalue": "database is locked",
     "output_type": "error",
     "traceback": [
      "\u001b[1;31m---------------------------------------------------------------------------\u001b[0m",
      "\u001b[1;31mOperationalError\u001b[0m                          Traceback (most recent call last)",
      "\u001b[1;32mc:\\Users\\Eduardo Bezerra\\Desktop\\Final Project\\mng_db.ipynb Cell 6\u001b[0m line \u001b[0;36m3\n\u001b[0;32m      <a href='vscode-notebook-cell:/c%3A/Users/Eduardo%20Bezerra/Desktop/Final%20Project/mng_db.ipynb#W6sZmlsZQ%3D%3D?line=0'>1</a>\u001b[0m \u001b[39m#Alterando alguns veículos para indisponível\u001b[39;00m\n\u001b[1;32m----> <a href='vscode-notebook-cell:/c%3A/Users/Eduardo%20Bezerra/Desktop/Final%20Project/mng_db.ipynb#W6sZmlsZQ%3D%3D?line=2'>3</a>\u001b[0m frota\u001b[39m.\u001b[39;49mexecute(\u001b[39m'''\u001b[39;49m\u001b[39mUPDATE veiculos SET Disponivel = 0 WHERE ID IN (23225, 254414, 22124)\u001b[39;49m\u001b[39m'''\u001b[39;49m)\n\u001b[0;32m      <a href='vscode-notebook-cell:/c%3A/Users/Eduardo%20Bezerra/Desktop/Final%20Project/mng_db.ipynb#W6sZmlsZQ%3D%3D?line=4'>5</a>\u001b[0m \u001b[39m# Salvar as alterações e fechar a conexão\u001b[39;00m\n\u001b[0;32m      <a href='vscode-notebook-cell:/c%3A/Users/Eduardo%20Bezerra/Desktop/Final%20Project/mng_db.ipynb#W6sZmlsZQ%3D%3D?line=5'>6</a>\u001b[0m con\u001b[39m.\u001b[39mcommit()\n",
      "\u001b[1;31mOperationalError\u001b[0m: database is locked"
     ]
    }
   ],
   "source": [
    "#Alterando alguns veículos para indisponível\n",
    "#Aqui me remeteu um erro mas se aplicar diretamente na base de dados, fica funcional.\n",
    "frota.execute('''UPDATE veiculos SET Disponivel = 0 WHERE ID IN (23225, 254414, 22124)''')\n",
    "\n",
    "# Salvar as alterações e fechar a conexão\n",
    "con.commit()\n",
    "con.close()"
   ]
  },
  {
   "cell_type": "code",
   "execution_count": 3,
   "metadata": {},
   "outputs": [
    {
     "ename": "OperationalError",
     "evalue": "database is locked",
     "output_type": "error",
     "traceback": [
      "\u001b[1;31m---------------------------------------------------------------------------\u001b[0m",
      "\u001b[1;31mOperationalError\u001b[0m                          Traceback (most recent call last)",
      "Cell \u001b[1;32mIn[3], line 2\u001b[0m\n\u001b[0;32m      1\u001b[0m \u001b[39m#Atualizar tabela:\u001b[39;00m\n\u001b[1;32m----> 2\u001b[0m frota\u001b[39m.\u001b[39;49mexecute(\u001b[39m'''\u001b[39;49m\u001b[39mUPDATE Veiculos SET Disponivel = 1 WHERE Disponivel = 0\u001b[39;49m\u001b[39m'''\u001b[39;49m)\n\u001b[0;32m      3\u001b[0m con\u001b[39m.\u001b[39mcommit()\n",
      "\u001b[1;31mOperationalError\u001b[0m: database is locked"
     ]
    }
   ],
   "source": [
    "#Atualizar tabela:\n",
    "frota.execute('''UPDATE Veiculos SET Disponivel = 1 WHERE Disponivel = 0''')\n",
    "con.commit()\n"
   ]
  },
  {
   "cell_type": "code",
   "execution_count": 4,
   "metadata": {},
   "outputs": [],
   "source": [
    "#Fechando a base de dados\n",
    "con.close()"
   ]
  }
 ],
 "metadata": {
  "kernelspec": {
   "display_name": "Python 3.11.0 64-bit",
   "language": "python",
   "name": "python3"
  },
  "language_info": {
   "codemirror_mode": {
    "name": "ipython",
    "version": 3
   },
   "file_extension": ".py",
   "mimetype": "text/x-python",
   "name": "python",
   "nbconvert_exporter": "python",
   "pygments_lexer": "ipython3",
   "version": "3.11.0"
  },
  "vscode": {
   "interpreter": {
    "hash": "83878636d23e815cea7c9e60b60109e742a3091f8978255f21763c8f53ff1985"
   }
  }
 },
 "nbformat": 4,
 "nbformat_minor": 2
}
